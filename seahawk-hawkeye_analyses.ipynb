{
 "cells": [
  {
   "cell_type": "markdown",
   "id": "b69dc747-27d2-4a51-8842-7e4dceb05e65",
   "metadata": {},
   "source": [
    "# SeaHawk-HawkEye Data Visualization\n",
    "This notebook serves to plot the results from calculations originally performed in Excel:\n",
    "\n",
    "1. Alan Holmes' analysis from signal_delta_over_time.xlsx, the results of which are saved to signal_delta_over_time_plotting.csv to be read in and visualized here.\n",
    "2. Alan Holmes' analysis from lunar_calibration.xlsx, the results of which are saved to lunar_calibration_results_for_plotting.csv to be read in and visualized here.\n",
    "3. Sean Bailey's analysis from MOBY hawkeye_nlw_bailey20240730.csv."
   ]
  },
  {
   "cell_type": "code",
   "execution_count": 1,
   "id": "534ace72-3242-4cea-aa55-a0ff8f764748",
   "metadata": {
    "tags": []
   },
   "outputs": [],
   "source": [
    "import pandas as pd\n",
    "import numpy as np\n",
    "import matplotlib.pyplot as plt\n",
    "import matplotlib.cm as cm\n",
    "import os"
   ]
  },
  {
   "cell_type": "markdown",
   "id": "923b463f-3170-41d6-8cf8-89d4d234df5d",
   "metadata": {},
   "source": [
    "### Baja Signal Loss Data\n",
    "Visualization steps:\n",
    "1. Read in signal_delta_over_time_plotting.csv\n",
    "2. Extract x and y values for shorter plotting script\n",
    "3. Plot"
   ]
  },
  {
   "cell_type": "code",
   "execution_count": 2,
   "id": "f3961891-e8b8-4c3b-bed6-79d99d998af5",
   "metadata": {
    "tags": []
   },
   "outputs": [
    {
     "data": {
      "text/html": [
       "<div>\n",
       "<style scoped>\n",
       "    .dataframe tbody tr th:only-of-type {\n",
       "        vertical-align: middle;\n",
       "    }\n",
       "\n",
       "    .dataframe tbody tr th {\n",
       "        vertical-align: top;\n",
       "    }\n",
       "\n",
       "    .dataframe thead th {\n",
       "        text-align: right;\n",
       "    }\n",
       "</style>\n",
       "<table border=\"1\" class=\"dataframe\">\n",
       "  <thead>\n",
       "    <tr style=\"text-align: right;\">\n",
       "      <th></th>\n",
       "      <th>Band</th>\n",
       "      <th>Band Center</th>\n",
       "      <th>Old</th>\n",
       "      <th>New</th>\n",
       "      <th>Ratio</th>\n",
       "    </tr>\n",
       "  </thead>\n",
       "  <tbody>\n",
       "    <tr>\n",
       "      <th>0</th>\n",
       "      <td>1</td>\n",
       "      <td>412.97</td>\n",
       "      <td>3272.843869</td>\n",
       "      <td>2681.943010</td>\n",
       "      <td>0.819453</td>\n",
       "    </tr>\n",
       "    <tr>\n",
       "      <th>1</th>\n",
       "      <td>2</td>\n",
       "      <td>447.37</td>\n",
       "      <td>4359.615567</td>\n",
       "      <td>3731.050172</td>\n",
       "      <td>0.855821</td>\n",
       "    </tr>\n",
       "    <tr>\n",
       "      <th>2</th>\n",
       "      <td>3</td>\n",
       "      <td>488.11</td>\n",
       "      <td>6916.302409</td>\n",
       "      <td>6552.737615</td>\n",
       "      <td>0.947434</td>\n",
       "    </tr>\n",
       "    <tr>\n",
       "      <th>3</th>\n",
       "      <td>4</td>\n",
       "      <td>509.55</td>\n",
       "      <td>7180.894813</td>\n",
       "      <td>6745.832902</td>\n",
       "      <td>0.939414</td>\n",
       "    </tr>\n",
       "    <tr>\n",
       "      <th>4</th>\n",
       "      <td>5</td>\n",
       "      <td>556.69</td>\n",
       "      <td>9177.510383</td>\n",
       "      <td>8771.537676</td>\n",
       "      <td>0.955764</td>\n",
       "    </tr>\n",
       "  </tbody>\n",
       "</table>\n",
       "</div>"
      ],
      "text/plain": [
       "   Band  Band Center          Old          New     Ratio\n",
       "0     1       412.97  3272.843869  2681.943010  0.819453\n",
       "1     2       447.37  4359.615567  3731.050172  0.855821\n",
       "2     3       488.11  6916.302409  6552.737615  0.947434\n",
       "3     4       509.55  7180.894813  6745.832902  0.939414\n",
       "4     5       556.69  9177.510383  8771.537676  0.955764"
      ]
     },
     "execution_count": 2,
     "metadata": {},
     "output_type": "execute_result"
    }
   ],
   "source": [
    "full_df_baja = pd.read_csv('signal_delta_over_time_plotting.csv', header = 1)\n",
    "full_df_baja.head()"
   ]
  },
  {
   "cell_type": "markdown",
   "id": "49dbeb4c-43e1-44a2-b4ea-b725aeea9165",
   "metadata": {},
   "source": [
    "### Plot Baja signal loss"
   ]
  },
  {
   "cell_type": "code",
   "execution_count": 3,
   "id": "d9b395d4-79c1-4be5-af96-49e58c5ce81e",
   "metadata": {
    "tags": []
   },
   "outputs": [],
   "source": [
    "ratio = full_df_baja['Ratio']\n",
    "baja_center = full_df_baja['Band Center']"
   ]
  },
  {
   "cell_type": "code",
   "execution_count": 4,
   "id": "f32031a8-3d04-4f3f-a105-fa91c650ba46",
   "metadata": {
    "tags": []
   },
   "outputs": [
    {
     "data": {
      "image/png": "[encoded data removed]",
      "text/plain": [
       "<Figure size 358.268x236.22 with 1 Axes>"
      ]
     },
     "metadata": {},
     "output_type": "display_data"
    }
   ],
   "source": [
    "centim = 1/2.54  # centimeters in inches for Nature, using 'cm' for colormap\n",
    "fig, axs = plt.subplots(figsize = (9.1*centim, 6*centim))\n",
    "\n",
    "# Set global label size\n",
    "plt.rcParams['axes.labelsize'] = 10\n",
    "\n",
    "axs.plot(baja_center, ratio, 'k.--', markersize = 10)\n",
    "axs.set_xlabel('Band Center (nm)')\n",
    "axs.set_ylabel('Signal Ratio')\n",
    "\n",
    "fig.tight_layout()\n",
    "\n",
    "plt.savefig('signal_delta_over_time.png', dpi = 600, transparent=True)"
   ]
  },
  {
   "cell_type": "markdown",
   "id": "72edd985-72b3-4b8b-8505-7daf0ba7c237",
   "metadata": {},
   "source": [
    "### Lunar Calibration Data\n",
    "Visualization steps:\n",
    "1. Read in lunar_calibration_results_for_plotting.csv\n",
    "2. Plot in loop to cover each date\n",
    "3. Plot average separately for different symbology"
   ]
  },
  {
   "cell_type": "markdown",
   "id": "829bafb0-fc22-4467-bfc8-ab4600aad883",
   "metadata": {},
   "source": [
    "### Lunar Calibration Data"
   ]
  },
  {
   "cell_type": "code",
   "execution_count": 5,
   "id": "ac52b449-ee1c-4971-a195-b695441f7732",
   "metadata": {
    "tags": []
   },
   "outputs": [
    {
     "data": {
      "text/html": [
       "<div>\n",
       "<style scoped>\n",
       "    .dataframe tbody tr th:only-of-type {\n",
       "        vertical-align: middle;\n",
       "    }\n",
       "\n",
       "    .dataframe tbody tr th {\n",
       "        vertical-align: top;\n",
       "    }\n",
       "\n",
       "    .dataframe thead th {\n",
       "        text-align: right;\n",
       "    }\n",
       "</style>\n",
       "<table border=\"1\" class=\"dataframe\">\n",
       "  <thead>\n",
       "    <tr style=\"text-align: right;\">\n",
       "      <th></th>\n",
       "      <th>Band Center</th>\n",
       "      <th>14-Apr-22</th>\n",
       "      <th>7-Oct-22</th>\n",
       "      <th>5-Nov-22</th>\n",
       "      <th>2-Feb-23</th>\n",
       "      <th>Average</th>\n",
       "    </tr>\n",
       "  </thead>\n",
       "  <tbody>\n",
       "    <tr>\n",
       "      <th>0</th>\n",
       "      <td>412.97</td>\n",
       "      <td>0.824527</td>\n",
       "      <td>0.841471</td>\n",
       "      <td>0.835619</td>\n",
       "      <td>0.810849</td>\n",
       "      <td>0.828117</td>\n",
       "    </tr>\n",
       "    <tr>\n",
       "      <th>1</th>\n",
       "      <td>447.37</td>\n",
       "      <td>0.880978</td>\n",
       "      <td>0.870313</td>\n",
       "      <td>0.871023</td>\n",
       "      <td>0.858548</td>\n",
       "      <td>0.870216</td>\n",
       "    </tr>\n",
       "    <tr>\n",
       "      <th>2</th>\n",
       "      <td>488.11</td>\n",
       "      <td>1.026571</td>\n",
       "      <td>1.039229</td>\n",
       "      <td>1.037559</td>\n",
       "      <td>1.027081</td>\n",
       "      <td>1.032610</td>\n",
       "    </tr>\n",
       "    <tr>\n",
       "      <th>3</th>\n",
       "      <td>509.55</td>\n",
       "      <td>0.984426</td>\n",
       "      <td>1.005966</td>\n",
       "      <td>0.982519</td>\n",
       "      <td>0.978239</td>\n",
       "      <td>0.987788</td>\n",
       "    </tr>\n",
       "    <tr>\n",
       "      <th>4</th>\n",
       "      <td>556.69</td>\n",
       "      <td>1.022886</td>\n",
       "      <td>1.024989</td>\n",
       "      <td>1.011203</td>\n",
       "      <td>1.007068</td>\n",
       "      <td>1.016537</td>\n",
       "    </tr>\n",
       "  </tbody>\n",
       "</table>\n",
       "</div>"
      ],
      "text/plain": [
       "   Band Center  14-Apr-22  7-Oct-22  5-Nov-22  2-Feb-23   Average\n",
       "0       412.97   0.824527  0.841471  0.835619  0.810849  0.828117\n",
       "1       447.37   0.880978  0.870313  0.871023  0.858548  0.870216\n",
       "2       488.11   1.026571  1.039229  1.037559  1.027081  1.032610\n",
       "3       509.55   0.984426  1.005966  0.982519  0.978239  0.987788\n",
       "4       556.69   1.022886  1.024989  1.011203  1.007068  1.016537"
      ]
     },
     "execution_count": 5,
     "metadata": {},
     "output_type": "execute_result"
    }
   ],
   "source": [
    "full_df_moon = pd.read_csv('lunar_calibration_results_for_plotting.csv', header = 0)\n",
    "full_df_moon.head()"
   ]
  },
  {
   "cell_type": "markdown",
   "id": "f4cf6df6-3635-4862-b639-4421e0e9cf91",
   "metadata": {},
   "source": [
    "### Lunar Calibration Plot"
   ]
  },
  {
   "cell_type": "code",
   "execution_count": 6,
   "id": "fd4c0b70-1d7d-4c9b-b095-b33a2572f4c0",
   "metadata": {
    "tags": []
   },
   "outputs": [],
   "source": [
    "lunar_center = full_df_moon['Band Center']\n",
    "apr22 = full_df_moon['14-Apr-22']\n",
    "oct22 = full_df_moon['7-Oct-22']\n",
    "nov22 = full_df_moon['5-Nov-22']\n",
    "feb23 = full_df_moon['2-Feb-23']\n",
    "avg = full_df_moon['Average']"
   ]
  },
  {
   "cell_type": "code",
   "execution_count": 7,
   "id": "2ae59aed-0975-42c3-a58b-6442204af999",
   "metadata": {
    "tags": []
   },
   "outputs": [
    {
     "data": {
      "image/png": "[encoded data removed]",
      "text/plain": [
       "<Figure size 358.268x236.22 with 1 Axes>"
      ]
     },
     "metadata": {},
     "output_type": "display_data"
    }
   ],
   "source": [
    "fig, axs = plt.subplots(figsize = (9.1*centim, 6*centim))\n",
    "\n",
    "# Generate colors from the viridis colormap\n",
    "colors = cm.inferno(np.linspace(0, .8, 5))\n",
    "\n",
    "for i in range(1, 5):\n",
    "    x = lunar_center\n",
    "    y = full_df_moon.iloc[:, i]\n",
    "    c = colors[i]\n",
    "    l = full_df_moon.columns[i]\n",
    "    axs.scatter(x, y, color=c, label=l, marker = '.')#, alpha=0.7)\n",
    "    \n",
    "axs.plot(lunar_center, avg, 'k*--', markersize = 8, label = 'Average')\n",
    "\n",
    "axs.set_xlabel('Band Center (nm)')\n",
    "axs.set_ylabel('Calibration Factor')\n",
    "plt.legend(fontsize=\"8\", loc =\"lower center\")\n",
    "fig.tight_layout()\n",
    "\n",
    "plt.savefig('lunar_calibration.png', dpi = 600, transparent=True)"
   ]
  },
  {
   "cell_type": "markdown",
   "id": "513b2314-d668-4c78-9f5c-06f107044ffc",
   "metadata": {},
   "source": [
    "### Plot both together\n",
    "It will be easier to control matching styles, plot box sizes, etc. if plotted in a single figure with two subplots. Use same scripts as above but for two subplots in one figure. Use this figure for submission."
   ]
  },
  {
   "cell_type": "code",
   "execution_count": 8,
   "id": "8fb2054e-b1db-48ae-b7ab-34118ed7c449",
   "metadata": {
    "tags": []
   },
   "outputs": [
    {
     "data": {
      "image/png": "[encoded data removed]",
      "text/plain": [
       "<Figure size 712.598x275.591 with 2 Axes>"
      ]
     },
     "metadata": {},
     "output_type": "display_data"
    }
   ],
   "source": [
    "# Set global label and figure size\n",
    "plt.rcParams['axes.labelsize'] = 10\n",
    "centim = 1/2.54  # centimeters in inches for Nature, using 'cm' for colormap\n",
    "fig, axs = plt.subplots(figsize = (18.1*centim, 7*centim), ncols = 2)\n",
    "\n",
    "# Left plot\n",
    "axs[0].plot(lunar_center, avg, 'k*--', markersize = 8, label = 'Average')\n",
    "\n",
    "# Generate colors \n",
    "colors = cm.inferno(np.linspace(0, .9, 5))\n",
    "for i in range(1, 5):\n",
    "    x = lunar_center\n",
    "    y = full_df_moon.iloc[:, i]\n",
    "    c = colors[i]\n",
    "    l = full_df_moon.columns[i]\n",
    "    axs[0].scatter(x, y, color=c, label=l, marker = '.')#, alpha=0.7)\n",
    "    \n",
    "\n",
    "axs[0].set_xlabel('Band Center (nm)')\n",
    "axs[0].set_ylabel('Signal Ratio vs. Moon')\n",
    "axs[0].legend(fontsize=\"8\", loc =\"lower center\")\n",
    "axs[0].set_ylim([0.8, 1.05])\n",
    "\n",
    "# Right Plot\n",
    "axs[1].plot(baja_center, ratio, 'k.--', markersize = 10)\n",
    "axs[1].set_xlabel('Band Center (nm)')\n",
    "axs[1].set_ylabel('Signal Ratio Over Time')\n",
    "axs[1].set_ylim([0.8, 1])\n",
    "\n",
    "fig.tight_layout()\n",
    "\n",
    "plt.savefig('signal_change_lunar_cal.png', dpi = 600, transparent=True)"
   ]
  },
  {
   "cell_type": "markdown",
   "id": "44385ba1-21e9-45b1-8b15-4504bca0f8d5",
   "metadata": {},
   "source": [
    "### MOBY data comparison\n",
    "HawkEye normalized water-leaving radiance values are provided by NASA SeaDAS (https://seadas.gsfc.nasa.gov) for 9 days where HawkEye images were available. Normalized water-leaving radiances are also calculated at those nine times from MOBY climatology (labeled with _insitu_ suffix). MOBY climatology calculations follow P. Jeremy Werdell, Sean W. Bailey, Bryan A. Franz, André Morel, and Charles R. McClain, \"On-orbit vicarious calibration of ocean color sensors using an ocean surface reflectance model,\" Appl. Opt. 46, 5649-5666 (2007) https://doi.org/10.1364/AO.46.005649 and can be found as a project on NASA's SMCE (Science Managed Cloud Environment) Gitlab at https://git.smce.nasa.gov/explore. The direct link to the project is https://git.smce.nasa.gov/oel/orm_morel. "
   ]
  },
  {
   "cell_type": "code",
   "execution_count": 9,
   "id": "5341b1c8-f58f-4450-8422-40ae119c3fa2",
   "metadata": {
    "tags": []
   },
   "outputs": [
    {
     "data": {
      "text/html": [
       "<div>\n",
       "<style scoped>\n",
       "    .dataframe tbody tr th:only-of-type {\n",
       "        vertical-align: middle;\n",
       "    }\n",
       "\n",
       "    .dataframe tbody tr th {\n",
       "        vertical-align: top;\n",
       "    }\n",
       "\n",
       "    .dataframe thead th {\n",
       "        text-align: right;\n",
       "    }\n",
       "</style>\n",
       "<table border=\"1\" class=\"dataframe\">\n",
       "  <thead>\n",
       "    <tr style=\"text-align: right;\">\n",
       "      <th></th>\n",
       "      <th>Date</th>\n",
       "      <th>Lwn_412</th>\n",
       "      <th>Lwn_447</th>\n",
       "      <th>Lwn_488</th>\n",
       "      <th>Lwn_510</th>\n",
       "      <th>Lwn_556</th>\n",
       "      <th>Lwn_670</th>\n",
       "      <th>Lwn_412-insitu</th>\n",
       "      <th>Lwn_447-insitu</th>\n",
       "      <th>Lwn_488-insitu</th>\n",
       "      <th>Lwn_510-insitu</th>\n",
       "      <th>Lwn_556-insitu</th>\n",
       "      <th>Lwn_670-insitu</th>\n",
       "    </tr>\n",
       "  </thead>\n",
       "  <tbody>\n",
       "    <tr>\n",
       "      <th>0</th>\n",
       "      <td>20210429T205304</td>\n",
       "      <td>2.52</td>\n",
       "      <td>2.18</td>\n",
       "      <td>1.35</td>\n",
       "      <td>0.636</td>\n",
       "      <td>0.296</td>\n",
       "      <td>0.0</td>\n",
       "      <td>2.43</td>\n",
       "      <td>2.07</td>\n",
       "      <td>1.46</td>\n",
       "      <td>0.756</td>\n",
       "      <td>0.325</td>\n",
       "      <td>0.0197</td>\n",
       "    </tr>\n",
       "    <tr>\n",
       "      <th>1</th>\n",
       "      <td>20210518T204854</td>\n",
       "      <td>2.42</td>\n",
       "      <td>2.05</td>\n",
       "      <td>1.43</td>\n",
       "      <td>0.731</td>\n",
       "      <td>0.130</td>\n",
       "      <td>0.0</td>\n",
       "      <td>2.45</td>\n",
       "      <td>2.08</td>\n",
       "      <td>1.47</td>\n",
       "      <td>0.757</td>\n",
       "      <td>0.324</td>\n",
       "      <td>0.0196</td>\n",
       "    </tr>\n",
       "    <tr>\n",
       "      <th>2</th>\n",
       "      <td>20210607T204923</td>\n",
       "      <td>2.54</td>\n",
       "      <td>2.12</td>\n",
       "      <td>1.37</td>\n",
       "      <td>0.687</td>\n",
       "      <td>0.250</td>\n",
       "      <td>0.0</td>\n",
       "      <td>2.45</td>\n",
       "      <td>2.08</td>\n",
       "      <td>1.47</td>\n",
       "      <td>0.756</td>\n",
       "      <td>0.324</td>\n",
       "      <td>0.0196</td>\n",
       "    </tr>\n",
       "    <tr>\n",
       "      <th>3</th>\n",
       "      <td>20210608T205411</td>\n",
       "      <td>2.72</td>\n",
       "      <td>2.26</td>\n",
       "      <td>1.38</td>\n",
       "      <td>0.729</td>\n",
       "      <td>0.410</td>\n",
       "      <td>0.0</td>\n",
       "      <td>2.46</td>\n",
       "      <td>2.09</td>\n",
       "      <td>1.47</td>\n",
       "      <td>0.758</td>\n",
       "      <td>0.325</td>\n",
       "      <td>0.0197</td>\n",
       "    </tr>\n",
       "    <tr>\n",
       "      <th>4</th>\n",
       "      <td>20220206T204114</td>\n",
       "      <td>2.17</td>\n",
       "      <td>1.85</td>\n",
       "      <td>1.24</td>\n",
       "      <td>0.613</td>\n",
       "      <td>0.321</td>\n",
       "      <td>0.0</td>\n",
       "      <td>2.10</td>\n",
       "      <td>1.78</td>\n",
       "      <td>1.26</td>\n",
       "      <td>0.658</td>\n",
       "      <td>0.283</td>\n",
       "      <td>0.0169</td>\n",
       "    </tr>\n",
       "  </tbody>\n",
       "</table>\n",
       "</div>"
      ],
      "text/plain": [
       "              Date  Lwn_412  Lwn_447  Lwn_488  Lwn_510  Lwn_556  Lwn_670  \\\n",
       "0  20210429T205304     2.52     2.18     1.35    0.636    0.296      0.0   \n",
       "1  20210518T204854     2.42     2.05     1.43    0.731    0.130      0.0   \n",
       "2  20210607T204923     2.54     2.12     1.37    0.687    0.250      0.0   \n",
       "3  20210608T205411     2.72     2.26     1.38    0.729    0.410      0.0   \n",
       "4  20220206T204114     2.17     1.85     1.24    0.613    0.321      0.0   \n",
       "\n",
       "   Lwn_412-insitu  Lwn_447-insitu  Lwn_488-insitu  Lwn_510-insitu  \\\n",
       "0            2.43            2.07            1.46           0.756   \n",
       "1            2.45            2.08            1.47           0.757   \n",
       "2            2.45            2.08            1.47           0.756   \n",
       "3            2.46            2.09            1.47           0.758   \n",
       "4            2.10            1.78            1.26           0.658   \n",
       "\n",
       "   Lwn_556-insitu  Lwn_670-insitu  \n",
       "0           0.325          0.0197  \n",
       "1           0.324          0.0196  \n",
       "2           0.324          0.0196  \n",
       "3           0.325          0.0197  \n",
       "4           0.283          0.0169  "
      ]
     },
     "execution_count": 9,
     "metadata": {},
     "output_type": "execute_result"
    }
   ],
   "source": [
    "full_df_moby = pd.read_csv('hawkeye_nlw_moby.csv', header = 0)\n",
    "full_df_moby.head()"
   ]
  },
  {
   "cell_type": "code",
   "execution_count": 10,
   "id": "8d1c056f-6c88-4fac-8ce3-500a94666c09",
   "metadata": {
    "tags": []
   },
   "outputs": [
    {
     "data": {
      "text/html": [
       "<div>\n",
       "<style scoped>\n",
       "    .dataframe tbody tr th:only-of-type {\n",
       "        vertical-align: middle;\n",
       "    }\n",
       "\n",
       "    .dataframe tbody tr th {\n",
       "        vertical-align: top;\n",
       "    }\n",
       "\n",
       "    .dataframe thead th {\n",
       "        text-align: right;\n",
       "    }\n",
       "</style>\n",
       "<table border=\"1\" class=\"dataframe\">\n",
       "  <thead>\n",
       "    <tr style=\"text-align: right;\">\n",
       "      <th></th>\n",
       "      <th>Lwn_412</th>\n",
       "      <th>Lwn_447</th>\n",
       "      <th>Lwn_488</th>\n",
       "      <th>Lwn_510</th>\n",
       "      <th>Lwn_556</th>\n",
       "      <th>Lwn_670</th>\n",
       "    </tr>\n",
       "  </thead>\n",
       "  <tbody>\n",
       "    <tr>\n",
       "      <th>0</th>\n",
       "      <td>2.52</td>\n",
       "      <td>2.18</td>\n",
       "      <td>1.35</td>\n",
       "      <td>0.636</td>\n",
       "      <td>0.296</td>\n",
       "      <td>0.0</td>\n",
       "    </tr>\n",
       "    <tr>\n",
       "      <th>1</th>\n",
       "      <td>2.42</td>\n",
       "      <td>2.05</td>\n",
       "      <td>1.43</td>\n",
       "      <td>0.731</td>\n",
       "      <td>0.130</td>\n",
       "      <td>0.0</td>\n",
       "    </tr>\n",
       "    <tr>\n",
       "      <th>2</th>\n",
       "      <td>2.54</td>\n",
       "      <td>2.12</td>\n",
       "      <td>1.37</td>\n",
       "      <td>0.687</td>\n",
       "      <td>0.250</td>\n",
       "      <td>0.0</td>\n",
       "    </tr>\n",
       "    <tr>\n",
       "      <th>3</th>\n",
       "      <td>2.72</td>\n",
       "      <td>2.26</td>\n",
       "      <td>1.38</td>\n",
       "      <td>0.729</td>\n",
       "      <td>0.410</td>\n",
       "      <td>0.0</td>\n",
       "    </tr>\n",
       "    <tr>\n",
       "      <th>4</th>\n",
       "      <td>2.17</td>\n",
       "      <td>1.85</td>\n",
       "      <td>1.24</td>\n",
       "      <td>0.613</td>\n",
       "      <td>0.321</td>\n",
       "      <td>0.0</td>\n",
       "    </tr>\n",
       "  </tbody>\n",
       "</table>\n",
       "</div>"
      ],
      "text/plain": [
       "   Lwn_412  Lwn_447  Lwn_488  Lwn_510  Lwn_556  Lwn_670\n",
       "0     2.52     2.18     1.35    0.636    0.296      0.0\n",
       "1     2.42     2.05     1.43    0.731    0.130      0.0\n",
       "2     2.54     2.12     1.37    0.687    0.250      0.0\n",
       "3     2.72     2.26     1.38    0.729    0.410      0.0\n",
       "4     2.17     1.85     1.24    0.613    0.321      0.0"
      ]
     },
     "execution_count": 10,
     "metadata": {},
     "output_type": "execute_result"
    }
   ],
   "source": [
    "df_moby_dates = full_df_moby.iloc[:, 0]\n",
    "df_moby_hawkeye = full_df_moby.iloc[:, 1:7]\n",
    "df_moby_hawkeye.head()"
   ]
  },
  {
   "cell_type": "code",
   "execution_count": 11,
   "id": "ead311ec-751b-474a-b680-5ee6c839e5f7",
   "metadata": {
    "tags": []
   },
   "outputs": [
    {
     "data": {
      "text/html": [
       "<div>\n",
       "<style scoped>\n",
       "    .dataframe tbody tr th:only-of-type {\n",
       "        vertical-align: middle;\n",
       "    }\n",
       "\n",
       "    .dataframe tbody tr th {\n",
       "        vertical-align: top;\n",
       "    }\n",
       "\n",
       "    .dataframe thead th {\n",
       "        text-align: right;\n",
       "    }\n",
       "</style>\n",
       "<table border=\"1\" class=\"dataframe\">\n",
       "  <thead>\n",
       "    <tr style=\"text-align: right;\">\n",
       "      <th></th>\n",
       "      <th>Lwn_412-insitu</th>\n",
       "      <th>Lwn_447-insitu</th>\n",
       "      <th>Lwn_488-insitu</th>\n",
       "      <th>Lwn_510-insitu</th>\n",
       "      <th>Lwn_556-insitu</th>\n",
       "      <th>Lwn_670-insitu</th>\n",
       "    </tr>\n",
       "  </thead>\n",
       "  <tbody>\n",
       "    <tr>\n",
       "      <th>0</th>\n",
       "      <td>2.43</td>\n",
       "      <td>2.07</td>\n",
       "      <td>1.46</td>\n",
       "      <td>0.756</td>\n",
       "      <td>0.325</td>\n",
       "      <td>0.0197</td>\n",
       "    </tr>\n",
       "    <tr>\n",
       "      <th>1</th>\n",
       "      <td>2.45</td>\n",
       "      <td>2.08</td>\n",
       "      <td>1.47</td>\n",
       "      <td>0.757</td>\n",
       "      <td>0.324</td>\n",
       "      <td>0.0196</td>\n",
       "    </tr>\n",
       "    <tr>\n",
       "      <th>2</th>\n",
       "      <td>2.45</td>\n",
       "      <td>2.08</td>\n",
       "      <td>1.47</td>\n",
       "      <td>0.756</td>\n",
       "      <td>0.324</td>\n",
       "      <td>0.0196</td>\n",
       "    </tr>\n",
       "    <tr>\n",
       "      <th>3</th>\n",
       "      <td>2.46</td>\n",
       "      <td>2.09</td>\n",
       "      <td>1.47</td>\n",
       "      <td>0.758</td>\n",
       "      <td>0.325</td>\n",
       "      <td>0.0197</td>\n",
       "    </tr>\n",
       "    <tr>\n",
       "      <th>4</th>\n",
       "      <td>2.10</td>\n",
       "      <td>1.78</td>\n",
       "      <td>1.26</td>\n",
       "      <td>0.658</td>\n",
       "      <td>0.283</td>\n",
       "      <td>0.0169</td>\n",
       "    </tr>\n",
       "  </tbody>\n",
       "</table>\n",
       "</div>"
      ],
      "text/plain": [
       "   Lwn_412-insitu  Lwn_447-insitu  Lwn_488-insitu  Lwn_510-insitu  \\\n",
       "0            2.43            2.07            1.46           0.756   \n",
       "1            2.45            2.08            1.47           0.757   \n",
       "2            2.45            2.08            1.47           0.756   \n",
       "3            2.46            2.09            1.47           0.758   \n",
       "4            2.10            1.78            1.26           0.658   \n",
       "\n",
       "   Lwn_556-insitu  Lwn_670-insitu  \n",
       "0           0.325          0.0197  \n",
       "1           0.324          0.0196  \n",
       "2           0.324          0.0196  \n",
       "3           0.325          0.0197  \n",
       "4           0.283          0.0169  "
      ]
     },
     "execution_count": 11,
     "metadata": {},
     "output_type": "execute_result"
    }
   ],
   "source": [
    "df_moby_insitu = full_df_moby.iloc[:, 7:]\n",
    "df_moby_insitu.head()"
   ]
  },
  {
   "cell_type": "code",
   "execution_count": 12,
   "id": "54342679-1fd1-4c42-b8eb-fa9e5c9764bf",
   "metadata": {
    "tags": []
   },
   "outputs": [
    {
     "name": "stdout",
     "output_type": "stream",
     "text": [
      "0    412.97\n",
      "1    447.37\n",
      "2    488.11\n",
      "3    509.55\n",
      "4    556.69\n",
      "5    670.37\n",
      "Name: Band Center, dtype: float64\n"
     ]
    }
   ],
   "source": [
    "# Extract band centers with more significant digits from above\n",
    "moby_center = lunar_center[0:6] # calculations don't include IR bands\n",
    "print(moby_center)"
   ]
  },
  {
   "cell_type": "code",
   "execution_count": 13,
   "id": "69b1e43a-d645-457d-adab-a5b38dfbd7ee",
   "metadata": {
    "tags": []
   },
   "outputs": [
    {
     "name": "stdout",
     "output_type": "stream",
     "text": [
      "0    20210429T205304\n",
      "1    20210518T204854\n",
      "2    20210607T204923\n",
      "3    20210608T205411\n",
      "4    20220206T204114\n",
      "5    20220207T204518\n",
      "6    20221004T202827\n",
      "7    20230515T201206\n",
      "8    20230516T201319\n",
      "Name: Date, dtype: object\n"
     ]
    }
   ],
   "source": [
    "print(df_moby_dates)"
   ]
  },
  {
   "cell_type": "code",
   "execution_count": 14,
   "id": "055dbd12-96a7-488b-b1eb-f5a807f05182",
   "metadata": {
    "tags": []
   },
   "outputs": [],
   "source": [
    "# Reformat manually\n",
    "date_moby = ['2021-Apr-29',\n",
    "             '2021-May-18',\n",
    "             '2021-Jun-07',\n",
    "             '2021-Jun-08',\n",
    "             '2022-Feb-06',\n",
    "             '2022-Feb-07',\n",
    "             '2022-Oct-04',\n",
    "             '2023-May-15',\n",
    "             '2023-May-16']"
   ]
  },
  {
   "cell_type": "code",
   "execution_count": 15,
   "id": "974c552e-be87-4d7d-ad42-51a2c4e540f5",
   "metadata": {
    "tags": []
   },
   "outputs": [
    {
     "data": {
      "image/png": "[encoded data removed]",
      "text/plain": [
       "<Figure size 354.331x275.591 with 1 Axes>"
      ]
     },
     "metadata": {},
     "output_type": "display_data"
    }
   ],
   "source": [
    "# Set global label and figure size\n",
    "fig, axs = plt.subplots(figsize = (9*centim, 7*centim))\n",
    "\n",
    "# Generate colors \n",
    "colors_moby = cm.inferno(np.linspace(0, .9, 9))\n",
    "for i in range(0, 9):\n",
    "    x = moby_center\n",
    "    y_insitu = df_moby_insitu.iloc[i, :]\n",
    "    y_hawkeye = df_moby_hawkeye.iloc[i, :]\n",
    "    c = colors_moby[i]\n",
    "    l = date_moby[i]\n",
    "    axs.plot(x, y_insitu, '--', color=c, label=l)#, alpha=0.7)\n",
    "    axs.plot(x, y_hawkeye, '.', color=c)#, alpha=0.7)\n",
    "    \n",
    "axs.set_xlabel('Band Center (nm)')\n",
    "axs.set_ylabel(r'$\\mathrm{nL_w\\ (mW/cm^2/µm)}$')\n",
    "axs.legend(fontsize=\"8\", loc =\"upper right\")\n",
    "\n",
    "fig.tight_layout()\n",
    "\n",
    "plt.savefig('moby_fig.png', dpi = 600, transparent=True)"
   ]
  }
 ],
 "metadata": {
  "kernelspec": {
   "display_name": "Python 3 (ipykernel)",
   "language": "python",
   "name": "python3"
  },
  "language_info": {
   "codemirror_mode": {
    "name": "ipython",
    "version": 3
   },
   "file_extension": ".py",
   "mimetype": "text/x-python",
   "name": "python",
   "nbconvert_exporter": "python",
   "pygments_lexer": "ipython3",
   "version": "3.11.7"
  }
 },
 "nbformat": 4,
 "nbformat_minor": 5
}
